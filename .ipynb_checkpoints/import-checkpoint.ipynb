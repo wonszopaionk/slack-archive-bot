{
 "cells": [
  {
   "cell_type": "code",
   "execution_count": 1,
   "metadata": {},
   "outputs": [],
   "source": [
    "import argparse\n",
    "import glob\n",
    "import json\n",
    "import logging\n",
    "import os\n",
    "import sqlite3\n",
    "\n"
   ]
  },
  {
   "cell_type": "code",
   "execution_count": null,
   "metadata": {},
   "outputs": [],
   "source": [
    "\n",
    "parser = argparse.ArgumentParser()\n",
    "parser.add_argument('directory', help=(\n",
    "                    'path to the downloaded Slack archive'))\n",
    "parser.add_argument('-d', '--database-path', default='slack.sqlite', help=(\n",
    "                    'path to the SQLite database. (default = ./slack.sqlite)'))\n",
    "parser.add_argument('-l', '--log-level', default='debug', help=(\n",
    "                    'CRITICAL, ERROR, WARNING, INFO or DEBUG (default = DEBUG)'))\n",
    "args = parser.parse_args()\n"
   ]
  },
  {
   "cell_type": "code",
   "execution_count": null,
   "metadata": {},
   "outputs": [],
   "source": [
    "\n",
    "log_level = args.log_level.upper()\n",
    "assert log_level in ['CRITICAL', 'ERROR', 'WARNING', 'INFO', 'DEBUG']\n",
    "logging.basicConfig(level=getattr(logging, log_level))\n",
    "logger = logging.getLogger(__name__)\n",
    "\n",
    "conn = sqlite3.connect(args.database_path)\n",
    "cursor = conn.cursor()\n",
    "cursor.execute('create table if not exists messages (message text, user text, channel text, timestamp text, UNIQUE(channel, timestamp) ON CONFLICT REPLACE)')\n",
    "cursor.execute('create table if not exists users (name text, id text, avatar text, UNIQUE(id) ON CONFLICT REPLACE)')\n",
    "cursor.execute('create table if not exists channels (name text, id text, UNIQUE(id) ON CONFLICT REPLACE)')\n",
    "\n",
    "directory = args.directory\n"
   ]
  },
  {
   "cell_type": "code",
   "execution_count": null,
   "metadata": {},
   "outputs": [],
   "source": [
    "\n",
    "logger.info(\"Importing channels..\")\n",
    "with open(os.path.join(directory, 'channels.json')) as f:\n",
    "    channels = json.load(f)\n",
    "args = [(c['name'], c['id']) for c in channels]\n",
    "cursor.executemany('INSERT INTO channels VALUES(?,?)', (args))\n",
    "logger.info(\"- Channels imported\")\n"
   ]
  },
  {
   "cell_type": "code",
   "execution_count": null,
   "metadata": {},
   "outputs": [],
   "source": [
    "\n",
    "logger.info(\"Importing users..\")\n",
    "with open(os.path.join(directory, 'users.json')) as f:\n",
    "    users = json.load(f)\n",
    "args = [(u['name'], u['id'], u['profile']['image_72']) for u in users]\n",
    "cursor.executemany('INSERT INTO users VALUES(?,?,?)', (args))\n",
    "logger.info(\"- Users imported\")\n"
   ]
  },
  {
   "cell_type": "code",
   "execution_count": null,
   "metadata": {},
   "outputs": [],
   "source": [
    "\n",
    "logger.info(\"Importing messages..\")\n",
    "for channel in channels:\n",
    "    files = glob.glob(os.path.join(directory, channel['name'], '*.json'))\n",
    "    if len(files) == 0:\n",
    "        logger.warning(\"No messages found for #%s\" % channel['name'])\n",
    "    for file_name in files:\n",
    "        with open(file_name, encoding='utf8') as f:\n",
    "            messages = json.load(f)\n",
    "\n",
    "        args = []\n",
    "        for message in messages:\n",
    "            if ('id' in channel and 'ts' in message):\n",
    "                args.append((\n",
    "                    message['text'] if 'text' in message else \"~~There is a message ommitted here~~\",\n",
    "                    message['user'] if 'user' in message else \"\", channel['id'], message['ts']\n",
    "                ))\n",
    "            else:\n",
    "                logger.warn(\"In \"+file_name+\": An exception occured, message not added to archive.\")\n",
    "\n",
    "        cursor.executemany('INSERT INTO messages VALUES(?, ?, ?, ?)', args)\n",
    "        conn.commit()\n",
    "logger.info(\"- Messages imported\")\n",
    "logger.info(\"Done\")\n"
   ]
  },
  {
   "cell_type": "code",
   "execution_count": null,
   "metadata": {},
   "outputs": [],
   "source": []
  },
  {
   "cell_type": "code",
   "execution_count": null,
   "metadata": {},
   "outputs": [],
   "source": []
  },
  {
   "cell_type": "code",
   "execution_count": null,
   "metadata": {},
   "outputs": [],
   "source": []
  }
 ],
 "metadata": {
  "kernelspec": {
   "display_name": "Python 3",
   "language": "python",
   "name": "python3"
  },
  "language_info": {
   "codemirror_mode": {
    "name": "ipython",
    "version": 3
   },
   "file_extension": ".py",
   "mimetype": "text/x-python",
   "name": "python",
   "nbconvert_exporter": "python",
   "pygments_lexer": "ipython3",
   "version": "3.8.3"
  }
 },
 "nbformat": 4,
 "nbformat_minor": 4
}
